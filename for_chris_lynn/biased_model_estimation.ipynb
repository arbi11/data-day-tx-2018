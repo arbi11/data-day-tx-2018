{
 "cells": [
  {
   "cell_type": "code",
   "execution_count": 1,
   "metadata": {
    "collapsed": true
   },
   "outputs": [],
   "source": [
    "import numpy as np\n",
    "import pandas as pd\n",
    "from sklearn.ensemble import RandomForestClassifier\n",
    "import matplotlib.pyplot as plt"
   ]
  },
  {
   "cell_type": "code",
   "execution_count": 2,
   "metadata": {
    "collapsed": false
   },
   "outputs": [],
   "source": [
    "traindat = pd.read_csv('../dat/clean.data')\n",
    "#traindat.head()"
   ]
  },
  {
   "cell_type": "code",
   "execution_count": 3,
   "metadata": {
    "collapsed": true
   },
   "outputs": [],
   "source": [
    "testdat = pd.read_csv('../dat/clean.test')\n",
    "#testdat.head()"
   ]
  },
  {
   "cell_type": "markdown",
   "metadata": {
    "collapsed": true
   },
   "source": [
    "How many ppl are female in the training and test sets?"
   ]
  },
  {
   "cell_type": "code",
   "execution_count": 4,
   "metadata": {
    "collapsed": false
   },
   "outputs": [
    {
     "name": "stdout",
     "output_type": "stream",
     "text": [
      "percentage female in training set: 0.3243153637026722\n"
     ]
    }
   ],
   "source": [
    "print('percentage female in training set:', np.count_nonzero(traindat['sex_ Female'])/traindat.shape[0])"
   ]
  },
  {
   "cell_type": "code",
   "execution_count": 5,
   "metadata": {
    "collapsed": false
   },
   "outputs": [
    {
     "name": "stdout",
     "output_type": "stream",
     "text": [
      "percentage female in test set: 0.3262284196547145\n"
     ]
    }
   ],
   "source": [
    "print('percentage female in test set:', np.count_nonzero(testdat['sex_ Female'])/testdat.shape[0])"
   ]
  },
  {
   "cell_type": "markdown",
   "metadata": {},
   "source": [
    "What percentages of males and females are creditworthy in the train and the test sets?"
   ]
  },
  {
   "cell_type": "code",
   "execution_count": 6,
   "metadata": {
    "collapsed": false
   },
   "outputs": [
    {
     "name": "stdout",
     "output_type": "stream",
     "text": [
      "percentage of approved females in train set 0.11367818442036394\n",
      "percentage of approved males in train set 0.3138370951913641\n",
      "percentage of approved females in test set 0.11337268471402402\n",
      "percentage of approved males in test set 0.30974672316940965\n"
     ]
    }
   ],
   "source": [
    "female_train = traindat.loc[traindat[traindat['sex_ Female'] == 1].index]\n",
    "male_train = traindat.loc[traindat[traindat['sex_ Male'] == 1].index]\n",
    "female_test = testdat.loc[testdat[testdat['sex_ Female'] == 1].index]\n",
    "male_test = testdat.loc[testdat[testdat['sex_ Male'] ==1].index]\n",
    "\n",
    "female_test_idx = testdat[testdat['sex_ Female'] == 1].index\n",
    "male_test_idx = testdat[testdat['sex_ Male'] == 1].index\n",
    "\n",
    "print('percentage of approved females in train set', np.count_nonzero(female_train['>50k $/yr'])/female_train.shape[0])\n",
    "print('percentage of approved males in train set', np.count_nonzero(male_train['>50k $/yr'])/male_train.shape[0])\n",
    "print('percentage of approved females in test set', np.count_nonzero(female_test['>50k $/yr'])/female_test.shape[0])\n",
    "print('percentage of approved males in test set', np.count_nonzero(male_test['>50k $/yr'])/male_test.shape[0])"
   ]
  },
  {
   "cell_type": "code",
   "execution_count": 7,
   "metadata": {
    "collapsed": false
   },
   "outputs": [],
   "source": [
    "# for rebalancing, later\n",
    "female_approved_train = traindat[(traindat['sex_ Female'] ==1) & (traindat['>50k $/yr'] == 1)]"
   ]
  },
  {
   "cell_type": "markdown",
   "metadata": {},
   "source": [
    "## model time\n",
    "Build a simple model to predict credit worthiness:"
   ]
  },
  {
   "cell_type": "code",
   "execution_count": 8,
   "metadata": {
    "collapsed": true
   },
   "outputs": [],
   "source": [
    "trainlbl = traindat['>50k $/yr']\n",
    "traindat.drop('>50k $/yr', axis=1, inplace=True)\n",
    "\n",
    "testlbl = testdat['>50k $/yr']\n",
    "testdat.drop('>50k $/yr', axis=1, inplace=True)\n",
    "testdat.insert(loc=61, column='native-country_ Holand-Netherlands', value=0)"
   ]
  },
  {
   "cell_type": "code",
   "execution_count": 9,
   "metadata": {
    "collapsed": false
   },
   "outputs": [
    {
     "data": {
      "text/plain": [
       "RandomForestClassifier(bootstrap=True, class_weight=None, criterion='gini',\n",
       "            max_depth=None, max_features='auto', max_leaf_nodes=None,\n",
       "            min_impurity_decrease=0.0, min_impurity_split=None,\n",
       "            min_samples_leaf=1, min_samples_split=2,\n",
       "            min_weight_fraction_leaf=0.0, n_estimators=50, n_jobs=-1,\n",
       "            oob_score=False, random_state=None, verbose=0,\n",
       "            warm_start=False)"
      ]
     },
     "execution_count": 9,
     "metadata": {},
     "output_type": "execute_result"
    }
   ],
   "source": [
    "rfc = RandomForestClassifier(n_estimators=50, n_jobs=-1)\n",
    "\n",
    "rfc.fit(traindat, trainlbl)"
   ]
  },
  {
   "cell_type": "code",
   "execution_count": 10,
   "metadata": {
    "collapsed": false
   },
   "outputs": [
    {
     "name": "stdout",
     "output_type": "stream",
     "text": [
      "0.8404382470119522\n"
     ]
    }
   ],
   "source": [
    "biased_output = rfc.predict(testdat)\n",
    "biased_accuracy = 1-np.count_nonzero(testlbl-biased_output)/testlbl.shape[0]\n",
    "print(biased_accuracy)"
   ]
  },
  {
   "cell_type": "markdown",
   "metadata": {},
   "source": [
    "How many females did the model approve?"
   ]
  },
  {
   "cell_type": "code",
   "execution_count": 11,
   "metadata": {
    "collapsed": false
   },
   "outputs": [
    {
     "name": "stdout",
     "output_type": "stream",
     "text": [
      "biased model approved 0.08731935680846734 percent of females\n"
     ]
    }
   ],
   "source": [
    "modeled_females = biased_output[female_test_idx]\n",
    "print('biased model approved', np.count_nonzero(modeled_females)/ modeled_females.shape[0], 'percent of females')"
   ]
  },
  {
   "cell_type": "markdown",
   "metadata": {},
   "source": [
    "How many males did the model approve?"
   ]
  },
  {
   "cell_type": "code",
   "execution_count": 12,
   "metadata": {
    "collapsed": false,
    "scrolled": true
   },
   "outputs": [
    {
     "name": "stdout",
     "output_type": "stream",
     "text": [
      "biased model approved 0.2783088597615059 percent of males\n"
     ]
    }
   ],
   "source": [
    "modeled_males = biased_output[male_test_idx]\n",
    "print('biased model approved', np.count_nonzero(modeled_males)/ modeled_males.shape[0], 'percent of males')"
   ]
  },
  {
   "cell_type": "markdown",
   "metadata": {},
   "source": [
    "## rebalance data by minority oversampling\n",
    "one could perform a more sophisticated analysis by using SMOTE or similar."
   ]
  },
  {
   "cell_type": "code",
   "execution_count": 13,
   "metadata": {
    "collapsed": false
   },
   "outputs": [
    {
     "data": {
      "text/plain": [
       "(30162, 88)"
      ]
     },
     "execution_count": 13,
     "metadata": {},
     "output_type": "execute_result"
    }
   ],
   "source": [
    "rebalanced = pd.read_csv('../dat/clean.data')\n",
    "rebalanced.shape"
   ]
  },
  {
   "cell_type": "code",
   "execution_count": 14,
   "metadata": {
    "collapsed": false
   },
   "outputs": [
    {
     "data": {
      "text/plain": [
       "(1112, 88)"
      ]
     },
     "execution_count": 14,
     "metadata": {},
     "output_type": "execute_result"
    }
   ],
   "source": [
    "female_approved_train.shape"
   ]
  },
  {
   "cell_type": "markdown",
   "metadata": {},
   "source": [
    "We'll oversample 3x, since there are 3x less approved females than approved males in the train set."
   ]
  },
  {
   "cell_type": "code",
   "execution_count": 15,
   "metadata": {
    "collapsed": false
   },
   "outputs": [
    {
     "data": {
      "text/plain": [
       "(363762, 88)"
      ]
     },
     "execution_count": 15,
     "metadata": {},
     "output_type": "execute_result"
    }
   ],
   "source": [
    "for i in range(300):\n",
    "    rebalanced = rebalanced.append(female_approved_train)\n",
    "\n",
    "rebalanced.shape"
   ]
  },
  {
   "cell_type": "markdown",
   "metadata": {},
   "source": [
    "shuffle the new rebalanced dataset, so we don't learn anything about order"
   ]
  },
  {
   "cell_type": "code",
   "execution_count": 16,
   "metadata": {
    "collapsed": true
   },
   "outputs": [],
   "source": [
    "rebalanced = rebalanced.sample(frac=1).reset_index(drop=True)"
   ]
  },
  {
   "cell_type": "markdown",
   "metadata": {},
   "source": [
    "sep labels and data"
   ]
  },
  {
   "cell_type": "code",
   "execution_count": 17,
   "metadata": {
    "collapsed": true
   },
   "outputs": [],
   "source": [
    "reballbl = rebalanced['>50k $/yr']\n",
    "rebalanced.drop('>50k $/yr', axis=1, inplace=True)"
   ]
  },
  {
   "cell_type": "markdown",
   "metadata": {},
   "source": [
    "remodel"
   ]
  },
  {
   "cell_type": "code",
   "execution_count": 18,
   "metadata": {
    "collapsed": false
   },
   "outputs": [
    {
     "data": {
      "text/plain": [
       "RandomForestClassifier(bootstrap=True, class_weight=None, criterion='gini',\n",
       "            max_depth=None, max_features='auto', max_leaf_nodes=None,\n",
       "            min_impurity_decrease=0.0, min_impurity_split=None,\n",
       "            min_samples_leaf=1, min_samples_split=2,\n",
       "            min_weight_fraction_leaf=0.0, n_estimators=50, n_jobs=-1,\n",
       "            oob_score=False, random_state=None, verbose=0,\n",
       "            warm_start=False)"
      ]
     },
     "execution_count": 18,
     "metadata": {},
     "output_type": "execute_result"
    }
   ],
   "source": [
    "rfc.fit(rebalanced, reballbl)"
   ]
  },
  {
   "cell_type": "code",
   "execution_count": 19,
   "metadata": {
    "collapsed": false,
    "scrolled": true
   },
   "outputs": [
    {
     "name": "stdout",
     "output_type": "stream",
     "text": [
      "0.8346613545816733\n"
     ]
    }
   ],
   "source": [
    "unbiased_output = rfc.predict(testdat)\n",
    "unbiased_accuracy = 1-np.count_nonzero(testlbl-unbiased_output)/testlbl.shape[0]\n",
    "print(unbiased_accuracy)"
   ]
  },
  {
   "cell_type": "markdown",
   "metadata": {},
   "source": [
    "How many females did the model approve?"
   ]
  },
  {
   "cell_type": "code",
   "execution_count": 20,
   "metadata": {
    "collapsed": false
   },
   "outputs": [
    {
     "name": "stdout",
     "output_type": "stream",
     "text": [
      "unbiased model approved 0.11052310197435375 percent of females\n"
     ]
    }
   ],
   "source": [
    "modeled_females = unbiased_output[female_test_idx]\n",
    "print('unbiased model approved', np.count_nonzero(modeled_females)/ modeled_females.shape[0], 'percent of females')"
   ]
  },
  {
   "cell_type": "markdown",
   "metadata": {},
   "source": [
    "How many males did the model approve?"
   ]
  },
  {
   "cell_type": "code",
   "execution_count": 21,
   "metadata": {
    "collapsed": false,
    "scrolled": true
   },
   "outputs": [
    {
     "name": "stdout",
     "output_type": "stream",
     "text": [
      "unbiased model approved 0.27683059032226276 percent of males\n"
     ]
    }
   ],
   "source": [
    "modeled_males = unbiased_output[male_test_idx]\n",
    "print('unbiased model approved', np.count_nonzero(modeled_males)/ modeled_males.shape[0], 'percent of males')"
   ]
  },
  {
   "cell_type": "code",
   "execution_count": null,
   "metadata": {
    "collapsed": true
   },
   "outputs": [],
   "source": []
  }
 ],
 "metadata": {
  "kernelspec": {
   "display_name": "Python 3",
   "language": "python",
   "name": "python3"
  },
  "language_info": {
   "codemirror_mode": {
    "name": "ipython",
    "version": 3
   },
   "file_extension": ".py",
   "mimetype": "text/x-python",
   "name": "python",
   "nbconvert_exporter": "python",
   "pygments_lexer": "ipython3",
   "version": "3.5.2"
  }
 },
 "nbformat": 4,
 "nbformat_minor": 2
}
